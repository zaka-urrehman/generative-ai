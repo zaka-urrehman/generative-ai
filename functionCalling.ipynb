{
 "cells": [
  {
   "cell_type": "code",
   "execution_count": 117,
   "metadata": {},
   "outputs": [],
   "source": [
    "from openai import OpenAI\n",
    "from dotenv import  load_dotenv , find_dotenv\n",
    "import os\n",
    "\n",
    "_ : bool = load_dotenv(find_dotenv())\n",
    "\n",
    "client : OpenAI = OpenAI()"
   ]
  },
  {
   "cell_type": "code",
   "execution_count": 118,
   "metadata": {},
   "outputs": [],
   "source": [
    "import json\n",
    "def get_student_data(student_name) :\n",
    "     \"\"\"Returns the student data for the given student name.\"\"\"\n",
    "\n",
    "     details = [\n",
    "          {\n",
    "              'name':' smith',\n",
    "              'age':20,\n",
    "              'gender':'male'\n",
    "          },\n",
    "          {\n",
    "              'name':'lisa',\n",
    "              'age':22,\n",
    "              'gender':'female'\n",
    "          },\n",
    "          {\n",
    "              'name':'janes',\n",
    "              'age':23,\n",
    "              'gender':'male'\n",
    "          },\n",
    "          {\n",
    "              'name':'james',\n",
    "              'age':24,\n",
    "              'gender':'male'\n",
    "          },\n",
    "          {\n",
    "              'name':'jessica',\n",
    "              'age':19,\n",
    "              'gender':'female'\n",
    "          },\n",
    "     ]\n",
    "\n",
    "     for i in details:\n",
    "          if i['name'].lower() == student_name.lower():\n",
    "                return json.dumps(i)\n",
    "\n",
    "     \n",
    "\n",
    "\n",
    "\n",
    "def get_teacher_data(teacher_name):\n",
    "     \"\"\"Returns the teacher details for the given teacher name.\"\"\"\n",
    "     details = [\n",
    "          { \n",
    "               \"name\": 'Paul',\n",
    "               'age':35,\n",
    "               'subject':'chemistry',\n",
    "          },\n",
    "          { \n",
    "               \"name\": 'Mary',\n",
    "               'age':30,\n",
    "              'subject':'english',\n",
    "          },\n",
    "          { \n",
    "               \"name\": 'John',\n",
    "               'age':25,\n",
    "             'subject':'maths',\n",
    "          },\n",
    "          { \n",
    "               \"name\": 'Jane',\n",
    "               'age':32,\n",
    "             'subject':'Biology',\n",
    "          },\n",
    "     ]\n",
    "\n",
    "     for i in details:\n",
    "           if i['name'].lower() == teacher_name.lower():\n",
    "                return json.dumps(i)\n",
    "\n",
    "\n"
   ]
  },
  {
   "cell_type": "code",
   "execution_count": 119,
   "metadata": {},
   "outputs": [],
   "source": [
    "available_functions = {\n",
    "              \"get_student_data\" : get_student_data,\n",
    "              \"get_teacher_data\" : get_teacher_data \n",
    "             }\n",
    "\n",
    "tools = [\n",
    "    {\n",
    "        \"type\": \"function\",\n",
    "        \"function\": {\n",
    "            \"name\": \"get_student_data\",\n",
    "            \"description\": \"Returns the student data for the given student name.\",\n",
    "            \"parameters\": {\n",
    "                \"type\": \"object\",\n",
    "                \"properties\": {\n",
    "                    \"student_name\": {\n",
    "                        \"type\": \"string\",\n",
    "                        \"description\": \"The name of the student.\"\n",
    "                    }\n",
    "                },\n",
    "                \"required\": [\"student_name\"]\n",
    "            }\n",
    "        }\n",
    "    },\n",
    "    {\n",
    "        \"type\": \"function\",\n",
    "        \"function\": {\n",
    "            \"name\": \"get_teacher_data\",\n",
    "            \"description\": \"Returns the teacher data for the given teacher name.\",\n",
    "            \"parameters\": {\n",
    "                \"type\": \"object\",\n",
    "                \"properties\": {\n",
    "                    \"teacher_name\": {\n",
    "                        \"type\": \"string\",\n",
    "                        \"description\": \"The name of the teacher.\"\n",
    "                    }\n",
    "                },\n",
    "                \"required\": [\"teacher_name\"]\n",
    "            }\n",
    "        }\n",
    "    }\n",
    "]\n",
    "\n",
    "\n",
    "\n",
    "messages = [\n",
    "    {\n",
    "        \"role\": \"user\",\n",
    "        \"content\": \"Do You have any information about teacher John and student lisa?\"\n",
    "    }\n",
    "]"
   ]
  },
  {
   "cell_type": "code",
   "execution_count": 120,
   "metadata": {},
   "outputs": [
    {
     "data": {
      "text/plain": [
       "{'content': None,\n",
       " 'role': 'assistant',\n",
       " 'function_call': None,\n",
       " 'tool_calls': [ChatCompletionMessageToolCall(id='call_xzgryAzeUnqJC04D1xJBoy5J', function=Function(arguments='{\"teacher_name\": \"John\"}', name='get_teacher_data'), type='function'),\n",
       "  ChatCompletionMessageToolCall(id='call_rsxp6qVxiyS3lp8ylXUxBcNe', function=Function(arguments='{\"student_name\": \"Lisa\"}', name='get_student_data'), type='function')]}"
      ]
     },
     "execution_count": 120,
     "metadata": {},
     "output_type": "execute_result"
    }
   ],
   "source": [
    "\n",
    "# creating the first chat completion\n",
    "\n",
    "response = client.chat.completions.create(\n",
    "        model=\"gpt-3.5-turbo-1106\",\n",
    "        messages=messages,\n",
    "        tools=tools,\n",
    "        tool_choice=\"auto\",  # auto is default, but we'll be explicit\n",
    "    )\n",
    "\n",
    "response_message = response.choices[0].message\n",
    "dict(response_message)"
   ]
  },
  {
   "cell_type": "code",
   "execution_count": 121,
   "metadata": {},
   "outputs": [
    {
     "data": {
      "text/plain": [
       "[ChatCompletionMessageToolCall(id='call_xzgryAzeUnqJC04D1xJBoy5J', function=Function(arguments='{\"teacher_name\": \"John\"}', name='get_teacher_data'), type='function'),\n",
       " ChatCompletionMessageToolCall(id='call_rsxp6qVxiyS3lp8ylXUxBcNe', function=Function(arguments='{\"student_name\": \"Lisa\"}', name='get_student_data'), type='function')]"
      ]
     },
     "execution_count": 121,
     "metadata": {},
     "output_type": "execute_result"
    }
   ],
   "source": [
    "tool_calls = response_message.tool_calls\n",
    "list(tool_calls)"
   ]
  },
  {
   "cell_type": "code",
   "execution_count": 122,
   "metadata": {},
   "outputs": [
    {
     "name": "stdout",
     "output_type": "stream",
     "text": [
      "get_teacher_data\n",
      "<function get_teacher_data at 0x00000220A50CFB00>\n",
      "{'teacher_name': 'John'}\n",
      "{\"name\": \"John\", \"age\": 25, \"subject\": \"maths\"}\n",
      "get_student_data\n",
      "<function get_student_data at 0x00000220A50CFE20>\n",
      "{'student_name': 'Lisa'}\n",
      "{\"name\": \"lisa\", \"age\": 22, \"gender\": \"female\"}\n"
     ]
    }
   ],
   "source": [
    "if tool_calls: \n",
    "     messages.append(response_message)\n",
    "\n",
    "     for tool_call in tool_calls:\n",
    "            function_name = tool_call.function.name   \n",
    "            print(function_name)         \n",
    "            function_to_call = available_functions[function_name]\n",
    "            print(function_to_call)\n",
    "            args_data = json.loads(tool_call.function.arguments)\n",
    "            print(args_data)\n",
    "\n",
    "            if 'student_name' in args_data:\n",
    "                  args_to_pass = args_data['student_name']\n",
    "            elif 'teacher_name' in args_data:\n",
    "                  args_to_pass =   args_data['teacher_name']\n",
    "                  \n",
    "            function_response = function_to_call(\n",
    "             args_to_pass\n",
    "            )\n",
    " \n",
    "            messages.append(\n",
    "                {\n",
    "                    \"tool_call_id\": tool_call.id,\n",
    "                    \"role\": \"tool\",\n",
    "                    \"name\": function_name,\n",
    "                    \"content\": function_response,\n",
    "                }\n",
    "             )  \n",
    "           \n",
    "            print(function_response)\n",
    "\n"
   ]
  },
  {
   "cell_type": "code",
   "execution_count": 123,
   "metadata": {},
   "outputs": [],
   "source": [
    "second_response = client.chat.completions.create(\n",
    "            model=\"gpt-3.5-turbo-1106\",\n",
    "            messages=messages,\n",
    "        )  # get a new response from the model where it can see the function"
   ]
  },
  {
   "cell_type": "code",
   "execution_count": 124,
   "metadata": {},
   "outputs": [
    {
     "data": {
      "text/plain": [
       "'Yes, Teacher John is 25 years old and teaches math. Student Lisa is 22 years old and is female. Is there anything specific you would like to know about them?'"
      ]
     },
     "execution_count": 124,
     "metadata": {},
     "output_type": "execute_result"
    }
   ],
   "source": [
    "second_response.choices[0].message.content"
   ]
  }
 ],
 "metadata": {
  "kernelspec": {
   "display_name": "python12",
   "language": "python",
   "name": "python3"
  },
  "language_info": {
   "codemirror_mode": {
    "name": "ipython",
    "version": 3
   },
   "file_extension": ".py",
   "mimetype": "text/x-python",
   "name": "python",
   "nbconvert_exporter": "python",
   "pygments_lexer": "ipython3",
   "version": "3.12.0"
  }
 },
 "nbformat": 4,
 "nbformat_minor": 2
}
